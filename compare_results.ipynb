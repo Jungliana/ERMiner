{
 "cells": [
  {
   "cell_type": "code",
   "execution_count": 17,
   "metadata": {
    "collapsed": true
   },
   "outputs": [],
   "source": [
    "from spmf import Spmf\n",
    "from ERMiner import ERMiner\n",
    "from io import StringIO\n",
    "import sys\n",
    "import re"
   ]
  },
  {
   "cell_type": "code",
   "execution_count": 18,
   "outputs": [],
   "source": [
    "tmp = sys.stdout"
   ],
   "metadata": {
    "collapsed": false,
    "pycharm": {
     "name": "#%%\n"
    }
   }
  },
  {
   "cell_type": "code",
   "execution_count": 19,
   "outputs": [],
   "source": [
    "support_values = [0.9, 0.8, 0.75, 0.6, 0.5, 0.4, 0.35, 0.3, 0.25, 0.23]\n",
    "erminer_times = []\n",
    "erminer_rules = []\n",
    "for support in support_values:\n",
    "    erminer = ERMiner(\"data/eshop.txt\", min_sup=support, min_con=0.75)\n",
    "    result = erminer.run(printing=False)\n",
    "    erminer_times.append(result[0])\n",
    "    erminer_rules.append(result[1])"
   ],
   "metadata": {
    "collapsed": false,
    "pycharm": {
     "name": "#%%\n"
    }
   }
  },
  {
   "cell_type": "code",
   "execution_count": 20,
   "outputs": [],
   "source": [
    "spmf_times = []\n",
    "spmf_rules = []\n",
    "for support in support_values:\n",
    "    buffer = StringIO()\n",
    "    sys.stdout = buffer\n",
    "    spmf = Spmf(\"ERMiner\", input_filename=\"data/eshop.txt\",\n",
    "            output_filename=\"data/output.txt\", arguments=[support, 0.75])\n",
    "    spmf.run()\n",
    "    print_output = buffer.getvalue()\n",
    "    spmf_times.append(int(re.findall('\\d+',print_output)[2]) / 1000)\n",
    "    spmf_rules.append(int(re.findall('\\d+',print_output)[1]))\n",
    "    tmp = sys.stdout"
   ],
   "metadata": {
    "collapsed": false,
    "pycharm": {
     "name": "#%%\n"
    }
   }
  },
  {
   "cell_type": "code",
   "execution_count": 21,
   "outputs": [
    {
     "data": {
      "text/plain": "[0.825062,\n 0.816073,\n 0.830062,\n 0.901067,\n 1.06309,\n 1.478115,\n 2.717206,\n 5.566408,\n 16.094209,\n 29.125189]"
     },
     "execution_count": 21,
     "metadata": {},
     "output_type": "execute_result"
    }
   ],
   "source": [
    "erminer_times"
   ],
   "metadata": {
    "collapsed": false,
    "pycharm": {
     "name": "#%%\n"
    }
   }
  },
  {
   "cell_type": "code",
   "execution_count": 22,
   "outputs": [
    {
     "data": {
      "text/plain": "[0.27, 0.437, 0.488, 0.547, 1.101, 2.246, 5.237, 12.32, 36.685, 72.698]"
     },
     "execution_count": 22,
     "metadata": {},
     "output_type": "execute_result"
    }
   ],
   "source": [
    "spmf_times"
   ],
   "metadata": {
    "collapsed": false,
    "pycharm": {
     "name": "#%%\n"
    }
   }
  },
  {
   "cell_type": "code",
   "execution_count": 23,
   "outputs": [
    {
     "data": {
      "text/plain": "[0, 0, 0, 3, 9, 32, 81, 215, 740, 1320]"
     },
     "execution_count": 23,
     "metadata": {},
     "output_type": "execute_result"
    }
   ],
   "source": [
    "erminer_rules"
   ],
   "metadata": {
    "collapsed": false,
    "pycharm": {
     "name": "#%%\n"
    }
   }
  },
  {
   "cell_type": "code",
   "execution_count": 24,
   "outputs": [
    {
     "data": {
      "text/plain": "[0, 0, 0, 3, 9, 32, 81, 215, 740, 1320]"
     },
     "execution_count": 24,
     "metadata": {},
     "output_type": "execute_result"
    }
   ],
   "source": [
    "spmf_rules"
   ],
   "metadata": {
    "collapsed": false,
    "pycharm": {
     "name": "#%%\n"
    }
   }
  },
  {
   "cell_type": "code",
   "execution_count": 24,
   "outputs": [],
   "source": [],
   "metadata": {
    "collapsed": false,
    "pycharm": {
     "name": "#%%\n"
    }
   }
  }
 ],
 "metadata": {
  "kernelspec": {
   "display_name": "Python 3",
   "language": "python",
   "name": "python3"
  },
  "language_info": {
   "codemirror_mode": {
    "name": "ipython",
    "version": 2
   },
   "file_extension": ".py",
   "mimetype": "text/x-python",
   "name": "python",
   "nbconvert_exporter": "python",
   "pygments_lexer": "ipython2",
   "version": "2.7.6"
  }
 },
 "nbformat": 4,
 "nbformat_minor": 0
}